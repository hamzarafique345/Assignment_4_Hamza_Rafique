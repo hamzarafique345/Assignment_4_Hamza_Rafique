{
 "cells": [
  {
   "cell_type": "markdown",
   "metadata": {},
   "source": [
    "Write a program which prompts the user for a temperature in Fahrenheit (this can be a number with decimal places!) and outputs the temperature converted to Celsius."
   ]
  },
  {
   "cell_type": "code",
   "execution_count": 3,
   "metadata": {},
   "outputs": [
    {
     "name": "stdout",
     "output_type": "stream",
     "text": [
      "Temperature 5.9F =-17.11C  \n"
     ]
    }
   ],
   "source": [
    "def convert_fre_to_cel():\n",
    "    fahrenheit_no = float(input(\"Enter Freanheit Unit to Convert In Celsius\"))\n",
    "    convert_cel = (fahrenheit_no - 32) * 5.9 / 9.0\n",
    "    print(f\"Temperature {fahrenheit_no}F ={round(convert_cel, 2)}C  \")\n",
    "\n",
    "convert_fre_to_cel()"
   ]
  }
 ],
 "metadata": {
  "kernelspec": {
   "display_name": "Python 3",
   "language": "python",
   "name": "python3"
  },
  "language_info": {
   "codemirror_mode": {
    "name": "ipython",
    "version": 3
   },
   "file_extension": ".py",
   "mimetype": "text/x-python",
   "name": "python",
   "nbconvert_exporter": "python",
   "pygments_lexer": "ipython3",
   "version": "3.11.9"
  }
 },
 "nbformat": 4,
 "nbformat_minor": 2
}
