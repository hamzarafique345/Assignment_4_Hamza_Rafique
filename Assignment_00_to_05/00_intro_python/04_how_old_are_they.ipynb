{
 "cells": [
  {
   "cell_type": "markdown",
   "metadata": {},
   "source": [
    "Write a program to solve this age-related riddle!\n",
    "\n",
    "Anton, Beth, Chen, Drew, and Ethan are all friends. Their ages are as follows:\n",
    "\n",
    "Anton is 21 years old.\n",
    "\n",
    "Beth is 6 years older than Anton.\n",
    "\n",
    "Chen is 20 years older than Beth.\n",
    "\n",
    "Drew is as old as Chen's age plus Anton's age.\n",
    "\n",
    "Ethan is the same age as Chen."
   ]
  },
  {
   "cell_type": "code",
   "execution_count": 3,
   "metadata": {},
   "outputs": [
    {
     "name": "stdout",
     "output_type": "stream",
     "text": [
      "Anton is 21 years old.\n",
      "Beth is 27 years old.\n",
      "Chen is 47 years old.\n",
      "Drew is 68 years old.\n",
      "Ethan is 47 years old.\n"
     ]
    }
   ],
   "source": [
    "def solve_age_riddle():\n",
    "    anton = 21\n",
    "    beth = anton + 6\n",
    "    chen = beth + 20\n",
    "    drew = chen + anton\n",
    "    ethan = chen\n",
    "\n",
    "    # Display the results\n",
    "    print(f\"Anton is {anton} years old.\")\n",
    "    print(f\"Beth is {beth} years old.\")\n",
    "    print(f\"Chen is {chen} years old.\")\n",
    "    print(f\"Drew is {drew} years old.\")\n",
    "    print(f\"Ethan is {ethan} years old.\")\n",
    "\n",
    "solve_age_riddle()\n"
   ]
  }
 ],
 "metadata": {
  "kernelspec": {
   "display_name": "Python 3",
   "language": "python",
   "name": "python3"
  },
  "language_info": {
   "codemirror_mode": {
    "name": "ipython",
    "version": 3
   },
   "file_extension": ".py",
   "mimetype": "text/x-python",
   "name": "python",
   "nbconvert_exporter": "python",
   "pygments_lexer": "ipython3",
   "version": "3.11.9"
  }
 },
 "nbformat": 4,
 "nbformat_minor": 2
}
