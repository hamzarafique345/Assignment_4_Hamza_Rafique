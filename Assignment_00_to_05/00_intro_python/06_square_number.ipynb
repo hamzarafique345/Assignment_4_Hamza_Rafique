{
 "cells": [
  {
   "cell_type": "markdown",
   "metadata": {},
   "source": [
    "Ask the user for a number and print its square (the product of the number times itself)."
   ]
  },
  {
   "cell_type": "code",
   "execution_count": 2,
   "metadata": {},
   "outputs": [
    {
     "name": "stdout",
     "output_type": "stream",
     "text": [
      "12 square is 144\n"
     ]
    }
   ],
   "source": [
    "def sqr():\n",
    "    num = int(input(\"Enter a Number to convert in square :\"))\n",
    "    print(f\"{num} square is {num ** 2}\")\n",
    "\n",
    "sqr()"
   ]
  }
 ],
 "metadata": {
  "kernelspec": {
   "display_name": "Python 3",
   "language": "python",
   "name": "python3"
  },
  "language_info": {
   "codemirror_mode": {
    "name": "ipython",
    "version": 3
   },
   "file_extension": ".py",
   "mimetype": "text/x-python",
   "name": "python",
   "nbconvert_exporter": "python",
   "pygments_lexer": "ipython3",
   "version": "3.11.9"
  }
 },
 "nbformat": 4,
 "nbformat_minor": 2
}
