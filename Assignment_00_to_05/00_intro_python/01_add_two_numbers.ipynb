{
 "cells": [
  {
   "cell_type": "markdown",
   "metadata": {},
   "source": [
    "Write a Python program that takes two integer inputs from the user and calculates their sum."
   ]
  },
  {
   "cell_type": "code",
   "execution_count": 7,
   "metadata": {},
   "outputs": [
    {
     "name": "stdout",
     "output_type": "stream",
     "text": [
      "Enter Two Number to Sum\n",
      "The total is = 7\n"
     ]
    }
   ],
   "source": [
    "def sum():\n",
    "    print(\"Enter Two Number to Sum\")\n",
    "    input_one = int(input(\"Enter Fitst Number :\"))\n",
    "    input_two = int(input(\"Enter Secong Number :\"))\n",
    "    sum = input_one + input_two\n",
    "    print(f\"The total is = {sum}\")\n",
    "\n",
    "sum()\n"
   ]
  }
 ],
 "metadata": {
  "kernelspec": {
   "display_name": "Python 3",
   "language": "python",
   "name": "python3"
  },
  "language_info": {
   "codemirror_mode": {
    "name": "ipython",
    "version": 3
   },
   "file_extension": ".py",
   "mimetype": "text/x-python",
   "name": "python",
   "nbconvert_exporter": "python",
   "pygments_lexer": "ipython3",
   "version": "3.11.9"
  }
 },
 "nbformat": 4,
 "nbformat_minor": 2
}
