{
 "cells": [
  {
   "cell_type": "markdown",
   "metadata": {},
   "source": [
    "user to enter the lengths of each side of a triangle and then calculate and print the perimeter of the triangle (the sum of all of the side lengths)."
   ]
  },
  {
   "cell_type": "code",
   "execution_count": 1,
   "metadata": {},
   "outputs": [
    {
     "name": "stdout",
     "output_type": "stream",
     "text": [
      "The perameter of all triangle is 15\n"
     ]
    }
   ],
   "source": [
    "def tri():\n",
    "    user_input_len_side_1 = int(input(\"What is the length of side 1 ?\"))\n",
    "    user_input_len_side_2 = int(input(\"What is the length of side 2 ?\"))\n",
    "    user_input_len_side_3 = int(input(\"What is the length of side 3 ?\"))\n",
    "    print(f\"The perameter of all triangle is {user_input_len_side_1 + user_input_len_side_2 + user_input_len_side_3}\")\n",
    "\n",
    "tri()"
   ]
  }
 ],
 "metadata": {
  "kernelspec": {
   "display_name": "Python 3",
   "language": "python",
   "name": "python3"
  },
  "language_info": {
   "codemirror_mode": {
    "name": "ipython",
    "version": 3
   },
   "file_extension": ".py",
   "mimetype": "text/x-python",
   "name": "python",
   "nbconvert_exporter": "python",
   "pygments_lexer": "ipython3",
   "version": "3.11.9"
  }
 },
 "nbformat": 4,
 "nbformat_minor": 2
}
